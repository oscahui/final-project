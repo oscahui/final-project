{
 "cells": [
  {
   "cell_type": "code",
   "execution_count": 69,
   "metadata": {},
   "outputs": [],
   "source": [
    "import pandas as pd\n",
    "import numpy as np"
   ]
  },
  {
   "cell_type": "code",
   "execution_count": 71,
   "metadata": {},
   "outputs": [
    {
     "data": {
      "text/plain": [
       "28"
      ]
     },
     "execution_count": 71,
     "metadata": {},
     "output_type": "execute_result"
    }
   ],
   "source": [
    "# load data\n",
    "df = pd.read_csv(\"../data/combine.csv\")\n",
    "df.head()\n",
    "len(df.columns)"
   ]
  },
  {
   "cell_type": "code",
   "execution_count": 45,
   "metadata": {},
   "outputs": [],
   "source": [
    "# define to check if close price increased compare to the previous close\n",
    "df[\"trend\"] = df.apply(lambda x: 1 if x[\"btc_diff\"] > 0 else (-1 if x[\"btc_diff\"] <0 else 0), axis=1)"
   ]
  },
  {
   "cell_type": "code",
   "execution_count": 46,
   "metadata": {},
   "outputs": [
    {
     "data": {
      "text/html": [
       "<div>\n",
       "<style scoped>\n",
       "    .dataframe tbody tr th:only-of-type {\n",
       "        vertical-align: middle;\n",
       "    }\n",
       "\n",
       "    .dataframe tbody tr th {\n",
       "        vertical-align: top;\n",
       "    }\n",
       "\n",
       "    .dataframe thead th {\n",
       "        text-align: right;\n",
       "    }\n",
       "</style>\n",
       "<table border=\"1\" class=\"dataframe\">\n",
       "  <thead>\n",
       "    <tr style=\"text-align: right;\">\n",
       "      <th></th>\n",
       "      <th>date</th>\n",
       "      <th>trend</th>\n",
       "    </tr>\n",
       "  </thead>\n",
       "  <tbody>\n",
       "    <tr>\n",
       "      <th>0</th>\n",
       "      <td>2012-01-03</td>\n",
       "      <td>0</td>\n",
       "    </tr>\n",
       "    <tr>\n",
       "      <th>1</th>\n",
       "      <td>2012-01-04</td>\n",
       "      <td>1</td>\n",
       "    </tr>\n",
       "    <tr>\n",
       "      <th>2</th>\n",
       "      <td>2012-01-05</td>\n",
       "      <td>1</td>\n",
       "    </tr>\n",
       "    <tr>\n",
       "      <th>3</th>\n",
       "      <td>2012-01-06</td>\n",
       "      <td>1</td>\n",
       "    </tr>\n",
       "    <tr>\n",
       "      <th>4</th>\n",
       "      <td>2012-01-09</td>\n",
       "      <td>0</td>\n",
       "    </tr>\n",
       "    <tr>\n",
       "      <th>...</th>\n",
       "      <td>...</td>\n",
       "      <td>...</td>\n",
       "    </tr>\n",
       "    <tr>\n",
       "      <th>2318</th>\n",
       "      <td>2021-03-25</td>\n",
       "      <td>-1</td>\n",
       "    </tr>\n",
       "    <tr>\n",
       "      <th>2319</th>\n",
       "      <td>2021-03-26</td>\n",
       "      <td>1</td>\n",
       "    </tr>\n",
       "    <tr>\n",
       "      <th>2320</th>\n",
       "      <td>2021-03-29</td>\n",
       "      <td>1</td>\n",
       "    </tr>\n",
       "    <tr>\n",
       "      <th>2321</th>\n",
       "      <td>2021-03-30</td>\n",
       "      <td>1</td>\n",
       "    </tr>\n",
       "    <tr>\n",
       "      <th>2322</th>\n",
       "      <td>2021-03-31</td>\n",
       "      <td>-1</td>\n",
       "    </tr>\n",
       "  </tbody>\n",
       "</table>\n",
       "<p>2323 rows × 2 columns</p>\n",
       "</div>"
      ],
      "text/plain": [
       "            date  trend\n",
       "0     2012-01-03      0\n",
       "1     2012-01-04      1\n",
       "2     2012-01-05      1\n",
       "3     2012-01-06      1\n",
       "4     2012-01-09      0\n",
       "...          ...    ...\n",
       "2318  2021-03-25     -1\n",
       "2319  2021-03-26      1\n",
       "2320  2021-03-29      1\n",
       "2321  2021-03-30      1\n",
       "2322  2021-03-31     -1\n",
       "\n",
       "[2323 rows x 2 columns]"
      ]
     },
     "execution_count": 46,
     "metadata": {},
     "output_type": "execute_result"
    }
   ],
   "source": [
    "df[[\"date\", \"trend\"]]"
   ]
  },
  {
   "cell_type": "code",
   "execution_count": 47,
   "metadata": {},
   "outputs": [],
   "source": [
    "ind_train_start = 0\n",
    "ind_test_start = int((len(df) - 0) * 0.8)"
   ]
  },
  {
   "cell_type": "code",
   "execution_count": 67,
   "metadata": {},
   "outputs": [
    {
     "data": {
      "text/plain": [
       "Index(['date', 'close', 'ma_5', 'ma_10', 'ma_20', 'ma_30', 'ma_60', 'ma_90',\n",
       "       'ma_180', 'ma_240', 'ma_360', 'gold', 'nasdaq_comp', 'sp500', 'indu',\n",
       "       'oil', 'btc_diff', 'gold_diff', 'nasdaq_diff', 'sp500_diff',\n",
       "       'indu_diff', 'oil_diff', 'btc_diffpct', 'gold_diffpct',\n",
       "       'nasdaq_diffpct', 'sp500_diffpct', 'indu_diffpct', 'oil_diffpct',\n",
       "       'trend'],\n",
       "      dtype='object')"
      ]
     },
     "execution_count": 67,
     "metadata": {},
     "output_type": "execute_result"
    }
   ],
   "source": [
    "df.columns"
   ]
  },
  {
   "cell_type": "code",
   "execution_count": 49,
   "metadata": {},
   "outputs": [],
   "source": [
    "# change here\n",
    "X = df[['gold', 'nasdaq_comp', 'sp500', 'indu', 'oil']]\n",
    "y = df[\"trend\"]"
   ]
  },
  {
   "cell_type": "code",
   "execution_count": 50,
   "metadata": {},
   "outputs": [],
   "source": [
    "X_train = X.iloc[ind_train_start:ind_test_start]\n",
    "X_test = X.iloc[ind_test_start:]\n",
    "X_test = X_test.iloc[:len(X_test)-1]\n",
    "X_test.iloc[0]\n",
    "\n",
    "# for using close price\n",
    "#y_train = y.iloc[ind_train_start + 1:ind_test_start + 1]\n",
    "#y_test = y.iloc[ind_test_start+1:]\n",
    "# for using other rows\n",
    "y_train = y.iloc[ind_train_start+1:ind_test_start+1]\n",
    "y_test = y.iloc[ind_test_start+1:]"
   ]
  },
  {
   "cell_type": "code",
   "execution_count": 51,
   "metadata": {},
   "outputs": [
    {
     "name": "stdout",
     "output_type": "stream",
     "text": [
      "(1858, 5) (1858,)\n"
     ]
    }
   ],
   "source": [
    "print(X_train.shape, y_train.shape)"
   ]
  },
  {
   "cell_type": "code",
   "execution_count": 52,
   "metadata": {},
   "outputs": [
    {
     "name": "stdout",
     "output_type": "stream",
     "text": [
      "date           2019-06-03\n",
      "close             8741.79\n",
      "gold                13.09\n",
      "nasdaq_comp       7333.02\n",
      "sp500             2744.45\n",
      "indu             24819.78\n",
      "oil                 16.11\n",
      "btc_diff           167.04\n",
      "trend                   1\n",
      "Name: 1861, dtype: object\n",
      "gold              13.09\n",
      "nasdaq_comp     7333.02\n",
      "sp500           2744.45\n",
      "indu           24819.78\n",
      "oil               16.11\n",
      "Name: 1861, dtype: float64\n",
      "-1\n"
     ]
    }
   ],
   "source": [
    "ind_test = ind_test_start + 3\n",
    "ind_test2 = ind_test - ind_test_start\n",
    "print(df[[\"date\", \"close\", 'gold', 'nasdaq_comp', 'sp500', 'indu', 'oil', \"btc_diff\", \"trend\"]].iloc[ind_test])\n",
    "print(X_test.iloc[ind_test2])\n",
    "print(y_test.iloc[ind_test2])"
   ]
  },
  {
   "cell_type": "code",
   "execution_count": 53,
   "metadata": {},
   "outputs": [],
   "source": [
    "from sklearn.preprocessing import MinMaxScaler"
   ]
  },
  {
   "cell_type": "code",
   "execution_count": 54,
   "metadata": {},
   "outputs": [],
   "source": [
    "X_scaler = MinMaxScaler().fit(X)\n",
    "# for predict price\n",
    "# Y_scaler = MinMaxScaler().fit(y)"
   ]
  },
  {
   "cell_type": "code",
   "execution_count": 55,
   "metadata": {},
   "outputs": [],
   "source": [
    "X_train_scaled = X_scaler.transform(X_train)\n",
    "X_test_scaled = X_scaler.transform(X_test)"
   ]
  },
  {
   "cell_type": "code",
   "execution_count": 56,
   "metadata": {},
   "outputs": [],
   "source": [
    "# for predict price\n",
    "#y_train_scaled = Y_scaler.transform(y_train)\n",
    "#y_test_scaled = Y_scaler.transform(y_test)"
   ]
  },
  {
   "cell_type": "code",
   "execution_count": 57,
   "metadata": {},
   "outputs": [],
   "source": [
    "#y_train_scaled_shape = np.reshape(y_train_scaled, (y_train_scaled.shape[0]))\n",
    "#print(y_train_scaled_shape.shape)"
   ]
  },
  {
   "cell_type": "code",
   "execution_count": 58,
   "metadata": {},
   "outputs": [
    {
     "name": "stdout",
     "output_type": "stream",
     "text": [
      "[[9.47140579e-01 3.14489858e-05 0.00000000e+00 1.40446732e-02\n",
      "  9.01944170e-01]\n",
      " [9.63317384e-01 0.00000000e+00 8.89719294e-05 1.50432536e-02\n",
      "  9.23666008e-01]\n",
      " [9.58760538e-01 1.87820332e-03 1.48286549e-03 1.49141596e-02\n",
      "  9.23666008e-01]\n",
      " ...\n",
      " [1.37161085e-01 4.35037315e-01 5.72823524e-01 6.35456440e-01\n",
      "  2.51368577e-01]\n",
      " [1.36933242e-01 4.35799953e-01 5.74239661e-01 6.39975681e-01\n",
      "  2.51368577e-01]\n",
      " [1.32148553e-01 4.33208906e-01 5.65464804e-01 6.28683749e-01\n",
      "  2.60034585e-01]] 1       1\n",
      "2       1\n",
      "3       1\n",
      "4       0\n",
      "5       1\n",
      "       ..\n",
      "1854   -1\n",
      "1855   -1\n",
      "1856    1\n",
      "1857    1\n",
      "1858   -1\n",
      "Name: trend, Length: 1858, dtype: int64\n"
     ]
    }
   ],
   "source": [
    "print(X_train_scaled, y_train)"
   ]
  },
  {
   "cell_type": "code",
   "execution_count": 59,
   "metadata": {},
   "outputs": [
    {
     "name": "stdout",
     "output_type": "stream",
     "text": [
      "(1858, 5) (1858,)\n"
     ]
    }
   ],
   "source": [
    "print(X_train_scaled.shape, y_train.shape)"
   ]
  },
  {
   "cell_type": "code",
   "execution_count": 60,
   "metadata": {},
   "outputs": [
    {
     "ename": "NameError",
     "evalue": "name 'y_train_scaled' is not defined",
     "output_type": "error",
     "traceback": [
      "\u001b[1;31m---------------------------------------------------------------------------\u001b[0m",
      "\u001b[1;31mNameError\u001b[0m                                 Traceback (most recent call last)",
      "\u001b[1;32m<ipython-input-60-efd3aac88ab2>\u001b[0m in \u001b[0;36m<module>\u001b[1;34m\u001b[0m\n\u001b[1;32m----> 1\u001b[1;33m \u001b[0my_train_reshape\u001b[0m \u001b[1;33m=\u001b[0m \u001b[0mnp\u001b[0m\u001b[1;33m.\u001b[0m\u001b[0mreshape\u001b[0m\u001b[1;33m(\u001b[0m\u001b[0my_train_scaled\u001b[0m\u001b[1;33m,\u001b[0m \u001b[1;33m(\u001b[0m\u001b[0my_train_scaled\u001b[0m\u001b[1;33m.\u001b[0m\u001b[0mshape\u001b[0m\u001b[1;33m[\u001b[0m\u001b[1;36m0\u001b[0m\u001b[1;33m]\u001b[0m\u001b[1;33m)\u001b[0m\u001b[1;33m)\u001b[0m\u001b[1;33m\u001b[0m\u001b[1;33m\u001b[0m\u001b[0m\n\u001b[0m\u001b[0;32m      2\u001b[0m \u001b[0my_test_reshape\u001b[0m \u001b[1;33m=\u001b[0m \u001b[0mnp\u001b[0m\u001b[1;33m.\u001b[0m\u001b[0mreshape\u001b[0m\u001b[1;33m(\u001b[0m\u001b[0my_test_scaled\u001b[0m\u001b[1;33m,\u001b[0m \u001b[1;33m(\u001b[0m\u001b[0my_test_scaled\u001b[0m\u001b[1;33m.\u001b[0m\u001b[0mshape\u001b[0m\u001b[1;33m[\u001b[0m\u001b[1;36m0\u001b[0m\u001b[1;33m]\u001b[0m\u001b[1;33m)\u001b[0m\u001b[1;33m)\u001b[0m\u001b[1;33m\u001b[0m\u001b[1;33m\u001b[0m\u001b[0m\n",
      "\u001b[1;31mNameError\u001b[0m: name 'y_train_scaled' is not defined"
     ]
    }
   ],
   "source": [
    "y_train_reshape = np.reshape(y_train_scaled, (y_train_scaled.shape[0]))\n",
    "y_test_reshape = np.reshape(y_test_scaled, (y_test_scaled.shape[0]))"
   ]
  },
  {
   "cell_type": "code",
   "execution_count": 61,
   "metadata": {},
   "outputs": [
    {
     "data": {
      "text/plain": [
       "SVC(kernel='linear')"
      ]
     },
     "execution_count": 61,
     "metadata": {},
     "output_type": "execute_result"
    }
   ],
   "source": [
    "from sklearn.svm import SVC \n",
    "model = SVC(kernel='linear')\n",
    "model"
   ]
  },
  {
   "cell_type": "code",
   "execution_count": 62,
   "metadata": {},
   "outputs": [],
   "source": [
    "from sklearn.model_selection import GridSearchCV\n",
    "param_grid = {'C': [0.001, 0.005, 0.01, 0.05, 0.1, 0.5, 1, 5, 10, 50, 100, 1000],\n",
    "              'gamma': [0.00001, 0.0005, 0.0001, 0.0005, 0.0001]}\n",
    "grid = GridSearchCV(model, param_grid, verbose=3)"
   ]
  },
  {
   "cell_type": "code",
   "execution_count": 63,
   "metadata": {},
   "outputs": [
    {
     "name": "stdout",
     "output_type": "stream",
     "text": [
      "Fitting 5 folds for each of 60 candidates, totalling 300 fits\n",
      "[CV 1/5] END ...........................C=0.001, gamma=1e-05; total time=   0.0s\n",
      "[CV 2/5] END ...........................C=0.001, gamma=1e-05; total time=   0.0s\n",
      "[CV 3/5] END ...........................C=0.001, gamma=1e-05; total time=   0.0s\n",
      "[CV 4/5] END ...........................C=0.001, gamma=1e-05; total time=   0.0s\n",
      "[CV 5/5] END ...........................C=0.001, gamma=1e-05; total time=   0.0s\n",
      "[CV 1/5] END ..........................C=0.001, gamma=0.0005; total time=   0.0s\n",
      "[CV 2/5] END ..........................C=0.001, gamma=0.0005; total time=   0.0s\n",
      "[CV 3/5] END ..........................C=0.001, gamma=0.0005; total time=   0.0s\n",
      "[CV 4/5] END ..........................C=0.001, gamma=0.0005; total time=   0.0s\n",
      "[CV 5/5] END ..........................C=0.001, gamma=0.0005; total time=   0.0s\n",
      "[CV 1/5] END ..........................C=0.001, gamma=0.0001; total time=   0.0s\n",
      "[CV 2/5] END ..........................C=0.001, gamma=0.0001; total time=   0.0s\n",
      "[CV 3/5] END ..........................C=0.001, gamma=0.0001; total time=   0.0s\n",
      "[CV 4/5] END ..........................C=0.001, gamma=0.0001; total time=   0.0s\n",
      "[CV 5/5] END ..........................C=0.001, gamma=0.0001; total time=   0.0s\n",
      "[CV 1/5] END ..........................C=0.001, gamma=0.0005; total time=   0.0s\n",
      "[CV 2/5] END ..........................C=0.001, gamma=0.0005; total time=   0.0s\n",
      "[CV 3/5] END ..........................C=0.001, gamma=0.0005; total time=   0.0s\n",
      "[CV 4/5] END ..........................C=0.001, gamma=0.0005; total time=   0.0s\n",
      "[CV 5/5] END ..........................C=0.001, gamma=0.0005; total time=   0.0s\n",
      "[CV 1/5] END ..........................C=0.001, gamma=0.0001; total time=   0.0s\n",
      "[CV 2/5] END ..........................C=0.001, gamma=0.0001; total time=   0.0s\n",
      "[CV 3/5] END ..........................C=0.001, gamma=0.0001; total time=   0.0s\n",
      "[CV 4/5] END ..........................C=0.001, gamma=0.0001; total time=   0.0s\n",
      "[CV 5/5] END ..........................C=0.001, gamma=0.0001; total time=   0.0s\n",
      "[CV 1/5] END ...........................C=0.005, gamma=1e-05; total time=   0.0s\n",
      "[CV 2/5] END ...........................C=0.005, gamma=1e-05; total time=   0.0s\n",
      "[CV 3/5] END ...........................C=0.005, gamma=1e-05; total time=   0.0s\n",
      "[CV 4/5] END ...........................C=0.005, gamma=1e-05; total time=   0.0s\n",
      "[CV 5/5] END ...........................C=0.005, gamma=1e-05; total time=   0.0s\n",
      "[CV 1/5] END ..........................C=0.005, gamma=0.0005; total time=   0.0s\n",
      "[CV 2/5] END ..........................C=0.005, gamma=0.0005; total time=   0.0s\n",
      "[CV 3/5] END ..........................C=0.005, gamma=0.0005; total time=   0.0s\n",
      "[CV 4/5] END ..........................C=0.005, gamma=0.0005; total time=   0.0s\n",
      "[CV 5/5] END ..........................C=0.005, gamma=0.0005; total time=   0.0s\n",
      "[CV 1/5] END ..........................C=0.005, gamma=0.0001; total time=   0.0s\n",
      "[CV 2/5] END ..........................C=0.005, gamma=0.0001; total time=   0.0s\n",
      "[CV 3/5] END ..........................C=0.005, gamma=0.0001; total time=   0.0s\n",
      "[CV 4/5] END ..........................C=0.005, gamma=0.0001; total time=   0.0s\n",
      "[CV 5/5] END ..........................C=0.005, gamma=0.0001; total time=   0.0s\n",
      "[CV 1/5] END ..........................C=0.005, gamma=0.0005; total time=   0.0s\n",
      "[CV 2/5] END ..........................C=0.005, gamma=0.0005; total time=   0.0s\n",
      "[CV 3/5] END ..........................C=0.005, gamma=0.0005; total time=   0.0s\n",
      "[CV 4/5] END ..........................C=0.005, gamma=0.0005; total time=   0.0s\n",
      "[CV 5/5] END ..........................C=0.005, gamma=0.0005; total time=   0.0s\n",
      "[CV 1/5] END ..........................C=0.005, gamma=0.0001; total time=   0.0s\n",
      "[CV 2/5] END ..........................C=0.005, gamma=0.0001; total time=   0.0s\n",
      "[CV 3/5] END ..........................C=0.005, gamma=0.0001; total time=   0.0s\n",
      "[CV 4/5] END ..........................C=0.005, gamma=0.0001; total time=   0.0s\n",
      "[CV 5/5] END ..........................C=0.005, gamma=0.0001; total time=   0.0s\n",
      "[CV 1/5] END ............................C=0.01, gamma=1e-05; total time=   0.0s\n",
      "[CV 2/5] END ............................C=0.01, gamma=1e-05; total time=   0.0s\n",
      "[CV 3/5] END ............................C=0.01, gamma=1e-05; total time=   0.0s\n",
      "[CV 4/5] END ............................C=0.01, gamma=1e-05; total time=   0.0s\n",
      "[CV 5/5] END ............................C=0.01, gamma=1e-05; total time=   0.0s\n",
      "[CV 1/5] END ...........................C=0.01, gamma=0.0005; total time=   0.0s\n",
      "[CV 2/5] END ...........................C=0.01, gamma=0.0005; total time=   0.0s\n",
      "[CV 3/5] END ...........................C=0.01, gamma=0.0005; total time=   0.0s\n",
      "[CV 4/5] END ...........................C=0.01, gamma=0.0005; total time=   0.0s\n",
      "[CV 5/5] END ...........................C=0.01, gamma=0.0005; total time=   0.0s\n",
      "[CV 1/5] END ...........................C=0.01, gamma=0.0001; total time=   0.0s\n",
      "[CV 2/5] END ...........................C=0.01, gamma=0.0001; total time=   0.0s\n",
      "[CV 3/5] END ...........................C=0.01, gamma=0.0001; total time=   0.0s\n",
      "[CV 4/5] END ...........................C=0.01, gamma=0.0001; total time=   0.0s\n",
      "[CV 5/5] END ...........................C=0.01, gamma=0.0001; total time=   0.0s\n",
      "[CV 1/5] END ...........................C=0.01, gamma=0.0005; total time=   0.0s\n",
      "[CV 2/5] END ...........................C=0.01, gamma=0.0005; total time=   0.0s\n",
      "[CV 3/5] END ...........................C=0.01, gamma=0.0005; total time=   0.0s\n",
      "[CV 4/5] END ...........................C=0.01, gamma=0.0005; total time=   0.0s\n",
      "[CV 5/5] END ...........................C=0.01, gamma=0.0005; total time=   0.0s\n",
      "[CV 1/5] END ...........................C=0.01, gamma=0.0001; total time=   0.0s\n",
      "[CV 2/5] END ...........................C=0.01, gamma=0.0001; total time=   0.0s\n",
      "[CV 3/5] END ...........................C=0.01, gamma=0.0001; total time=   0.0s\n",
      "[CV 4/5] END ...........................C=0.01, gamma=0.0001; total time=   0.0s\n",
      "[CV 5/5] END ...........................C=0.01, gamma=0.0001; total time=   0.0s\n",
      "[CV 1/5] END ............................C=0.05, gamma=1e-05; total time=   0.0s\n",
      "[CV 2/5] END ............................C=0.05, gamma=1e-05; total time=   0.0s\n",
      "[CV 3/5] END ............................C=0.05, gamma=1e-05; total time=   0.0s\n",
      "[CV 4/5] END ............................C=0.05, gamma=1e-05; total time=   0.0s\n",
      "[CV 5/5] END ............................C=0.05, gamma=1e-05; total time=   0.0s\n",
      "[CV 1/5] END ...........................C=0.05, gamma=0.0005; total time=   0.0s\n",
      "[CV 2/5] END ...........................C=0.05, gamma=0.0005; total time=   0.0s\n",
      "[CV 3/5] END ...........................C=0.05, gamma=0.0005; total time=   0.0s\n",
      "[CV 4/5] END ...........................C=0.05, gamma=0.0005; total time=   0.0s\n",
      "[CV 5/5] END ...........................C=0.05, gamma=0.0005; total time=   0.0s\n",
      "[CV 1/5] END ...........................C=0.05, gamma=0.0001; total time=   0.0s\n",
      "[CV 2/5] END ...........................C=0.05, gamma=0.0001; total time=   0.0s\n",
      "[CV 3/5] END ...........................C=0.05, gamma=0.0001; total time=   0.0s\n",
      "[CV 4/5] END ...........................C=0.05, gamma=0.0001; total time=   0.0s\n",
      "[CV 5/5] END ...........................C=0.05, gamma=0.0001; total time=   0.0s\n",
      "[CV 1/5] END ...........................C=0.05, gamma=0.0005; total time=   0.0s\n",
      "[CV 2/5] END ...........................C=0.05, gamma=0.0005; total time=   0.0s\n",
      "[CV 3/5] END ...........................C=0.05, gamma=0.0005; total time=   0.0s\n",
      "[CV 4/5] END ...........................C=0.05, gamma=0.0005; total time=   0.0s\n",
      "[CV 5/5] END ...........................C=0.05, gamma=0.0005; total time=   0.0s\n",
      "[CV 1/5] END ...........................C=0.05, gamma=0.0001; total time=   0.0s\n",
      "[CV 2/5] END ...........................C=0.05, gamma=0.0001; total time=   0.0s\n",
      "[CV 3/5] END ...........................C=0.05, gamma=0.0001; total time=   0.0s\n",
      "[CV 4/5] END ...........................C=0.05, gamma=0.0001; total time=   0.0s\n",
      "[CV 5/5] END ...........................C=0.05, gamma=0.0001; total time=   0.0s\n",
      "[CV 1/5] END .............................C=0.1, gamma=1e-05; total time=   0.0s\n"
     ]
    },
    {
     "name": "stdout",
     "output_type": "stream",
     "text": [
      "[CV 2/5] END .............................C=0.1, gamma=1e-05; total time=   0.0s\n",
      "[CV 3/5] END .............................C=0.1, gamma=1e-05; total time=   0.0s\n",
      "[CV 4/5] END .............................C=0.1, gamma=1e-05; total time=   0.0s\n",
      "[CV 5/5] END .............................C=0.1, gamma=1e-05; total time=   0.0s\n",
      "[CV 1/5] END ............................C=0.1, gamma=0.0005; total time=   0.0s\n",
      "[CV 2/5] END ............................C=0.1, gamma=0.0005; total time=   0.0s\n",
      "[CV 3/5] END ............................C=0.1, gamma=0.0005; total time=   0.0s\n",
      "[CV 4/5] END ............................C=0.1, gamma=0.0005; total time=   0.0s\n",
      "[CV 5/5] END ............................C=0.1, gamma=0.0005; total time=   0.0s\n",
      "[CV 1/5] END ............................C=0.1, gamma=0.0001; total time=   0.0s\n",
      "[CV 2/5] END ............................C=0.1, gamma=0.0001; total time=   0.0s\n",
      "[CV 3/5] END ............................C=0.1, gamma=0.0001; total time=   0.0s\n",
      "[CV 4/5] END ............................C=0.1, gamma=0.0001; total time=   0.0s\n",
      "[CV 5/5] END ............................C=0.1, gamma=0.0001; total time=   0.0s\n",
      "[CV 1/5] END ............................C=0.1, gamma=0.0005; total time=   0.0s\n",
      "[CV 2/5] END ............................C=0.1, gamma=0.0005; total time=   0.0s\n",
      "[CV 3/5] END ............................C=0.1, gamma=0.0005; total time=   0.0s\n",
      "[CV 4/5] END ............................C=0.1, gamma=0.0005; total time=   0.0s\n",
      "[CV 5/5] END ............................C=0.1, gamma=0.0005; total time=   0.0s\n",
      "[CV 1/5] END ............................C=0.1, gamma=0.0001; total time=   0.0s\n",
      "[CV 2/5] END ............................C=0.1, gamma=0.0001; total time=   0.0s\n",
      "[CV 3/5] END ............................C=0.1, gamma=0.0001; total time=   0.0s\n",
      "[CV 4/5] END ............................C=0.1, gamma=0.0001; total time=   0.0s\n",
      "[CV 5/5] END ............................C=0.1, gamma=0.0001; total time=   0.0s\n",
      "[CV 1/5] END .............................C=0.5, gamma=1e-05; total time=   0.0s\n",
      "[CV 2/5] END .............................C=0.5, gamma=1e-05; total time=   0.0s\n",
      "[CV 3/5] END .............................C=0.5, gamma=1e-05; total time=   0.0s\n",
      "[CV 4/5] END .............................C=0.5, gamma=1e-05; total time=   0.0s\n",
      "[CV 5/5] END .............................C=0.5, gamma=1e-05; total time=   0.0s\n",
      "[CV 1/5] END ............................C=0.5, gamma=0.0005; total time=   0.0s\n",
      "[CV 2/5] END ............................C=0.5, gamma=0.0005; total time=   0.0s\n",
      "[CV 3/5] END ............................C=0.5, gamma=0.0005; total time=   0.0s\n",
      "[CV 4/5] END ............................C=0.5, gamma=0.0005; total time=   0.0s\n",
      "[CV 5/5] END ............................C=0.5, gamma=0.0005; total time=   0.0s\n",
      "[CV 1/5] END ............................C=0.5, gamma=0.0001; total time=   0.0s\n",
      "[CV 2/5] END ............................C=0.5, gamma=0.0001; total time=   0.0s\n",
      "[CV 3/5] END ............................C=0.5, gamma=0.0001; total time=   0.0s\n",
      "[CV 4/5] END ............................C=0.5, gamma=0.0001; total time=   0.0s\n",
      "[CV 5/5] END ............................C=0.5, gamma=0.0001; total time=   0.0s\n",
      "[CV 1/5] END ............................C=0.5, gamma=0.0005; total time=   0.0s\n",
      "[CV 2/5] END ............................C=0.5, gamma=0.0005; total time=   0.0s\n",
      "[CV 3/5] END ............................C=0.5, gamma=0.0005; total time=   0.0s\n",
      "[CV 4/5] END ............................C=0.5, gamma=0.0005; total time=   0.0s\n",
      "[CV 5/5] END ............................C=0.5, gamma=0.0005; total time=   0.0s\n",
      "[CV 1/5] END ............................C=0.5, gamma=0.0001; total time=   0.0s\n",
      "[CV 2/5] END ............................C=0.5, gamma=0.0001; total time=   0.0s\n",
      "[CV 3/5] END ............................C=0.5, gamma=0.0001; total time=   0.0s\n",
      "[CV 4/5] END ............................C=0.5, gamma=0.0001; total time=   0.0s\n",
      "[CV 5/5] END ............................C=0.5, gamma=0.0001; total time=   0.0s\n",
      "[CV 1/5] END ...............................C=1, gamma=1e-05; total time=   0.0s\n",
      "[CV 2/5] END ...............................C=1, gamma=1e-05; total time=   0.0s\n",
      "[CV 3/5] END ...............................C=1, gamma=1e-05; total time=   0.0s\n",
      "[CV 4/5] END ...............................C=1, gamma=1e-05; total time=   0.0s\n",
      "[CV 5/5] END ...............................C=1, gamma=1e-05; total time=   0.0s\n",
      "[CV 1/5] END ..............................C=1, gamma=0.0005; total time=   0.0s\n",
      "[CV 2/5] END ..............................C=1, gamma=0.0005; total time=   0.0s\n",
      "[CV 3/5] END ..............................C=1, gamma=0.0005; total time=   0.0s\n",
      "[CV 4/5] END ..............................C=1, gamma=0.0005; total time=   0.0s\n",
      "[CV 5/5] END ..............................C=1, gamma=0.0005; total time=   0.0s\n",
      "[CV 1/5] END ..............................C=1, gamma=0.0001; total time=   0.0s\n",
      "[CV 2/5] END ..............................C=1, gamma=0.0001; total time=   0.0s\n",
      "[CV 3/5] END ..............................C=1, gamma=0.0001; total time=   0.0s\n",
      "[CV 4/5] END ..............................C=1, gamma=0.0001; total time=   0.0s\n",
      "[CV 5/5] END ..............................C=1, gamma=0.0001; total time=   0.0s\n",
      "[CV 1/5] END ..............................C=1, gamma=0.0005; total time=   0.0s\n",
      "[CV 2/5] END ..............................C=1, gamma=0.0005; total time=   0.0s\n",
      "[CV 3/5] END ..............................C=1, gamma=0.0005; total time=   0.0s\n",
      "[CV 4/5] END ..............................C=1, gamma=0.0005; total time=   0.0s\n",
      "[CV 5/5] END ..............................C=1, gamma=0.0005; total time=   0.0s\n",
      "[CV 1/5] END ..............................C=1, gamma=0.0001; total time=   0.0s\n",
      "[CV 2/5] END ..............................C=1, gamma=0.0001; total time=   0.0s\n",
      "[CV 3/5] END ..............................C=1, gamma=0.0001; total time=   0.0s\n",
      "[CV 4/5] END ..............................C=1, gamma=0.0001; total time=   0.0s\n",
      "[CV 5/5] END ..............................C=1, gamma=0.0001; total time=   0.0s\n",
      "[CV 1/5] END ...............................C=5, gamma=1e-05; total time=   0.0s\n",
      "[CV 2/5] END ...............................C=5, gamma=1e-05; total time=   0.0s\n",
      "[CV 3/5] END ...............................C=5, gamma=1e-05; total time=   0.0s\n",
      "[CV 4/5] END ...............................C=5, gamma=1e-05; total time=   0.0s\n",
      "[CV 5/5] END ...............................C=5, gamma=1e-05; total time=   0.0s\n",
      "[CV 1/5] END ..............................C=5, gamma=0.0005; total time=   0.0s\n",
      "[CV 2/5] END ..............................C=5, gamma=0.0005; total time=   0.0s\n",
      "[CV 3/5] END ..............................C=5, gamma=0.0005; total time=   0.0s\n",
      "[CV 4/5] END ..............................C=5, gamma=0.0005; total time=   0.0s\n",
      "[CV 5/5] END ..............................C=5, gamma=0.0005; total time=   0.0s\n",
      "[CV 1/5] END ..............................C=5, gamma=0.0001; total time=   0.0s\n",
      "[CV 2/5] END ..............................C=5, gamma=0.0001; total time=   0.0s\n",
      "[CV 3/5] END ..............................C=5, gamma=0.0001; total time=   0.0s\n",
      "[CV 4/5] END ..............................C=5, gamma=0.0001; total time=   0.0s\n",
      "[CV 5/5] END ..............................C=5, gamma=0.0001; total time=   0.0s\n",
      "[CV 1/5] END ..............................C=5, gamma=0.0005; total time=   0.0s\n",
      "[CV 2/5] END ..............................C=5, gamma=0.0005; total time=   0.0s\n",
      "[CV 3/5] END ..............................C=5, gamma=0.0005; total time=   0.0s\n",
      "[CV 4/5] END ..............................C=5, gamma=0.0005; total time=   0.0s\n",
      "[CV 5/5] END ..............................C=5, gamma=0.0005; total time=   0.0s\n",
      "[CV 1/5] END ..............................C=5, gamma=0.0001; total time=   0.0s\n",
      "[CV 2/5] END ..............................C=5, gamma=0.0001; total time=   0.0s\n",
      "[CV 3/5] END ..............................C=5, gamma=0.0001; total time=   0.0s\n",
      "[CV 4/5] END ..............................C=5, gamma=0.0001; total time=   0.0s\n",
      "[CV 5/5] END ..............................C=5, gamma=0.0001; total time=   0.0s\n",
      "[CV 1/5] END ..............................C=10, gamma=1e-05; total time=   0.0s\n",
      "[CV 2/5] END ..............................C=10, gamma=1e-05; total time=   0.0s\n",
      "[CV 3/5] END ..............................C=10, gamma=1e-05; total time=   0.0s\n",
      "[CV 4/5] END ..............................C=10, gamma=1e-05; total time=   0.0s\n"
     ]
    },
    {
     "name": "stdout",
     "output_type": "stream",
     "text": [
      "[CV 5/5] END ..............................C=10, gamma=1e-05; total time=   0.0s\n",
      "[CV 1/5] END .............................C=10, gamma=0.0005; total time=   0.0s\n",
      "[CV 2/5] END .............................C=10, gamma=0.0005; total time=   0.0s\n",
      "[CV 3/5] END .............................C=10, gamma=0.0005; total time=   0.0s\n",
      "[CV 4/5] END .............................C=10, gamma=0.0005; total time=   0.0s\n",
      "[CV 5/5] END .............................C=10, gamma=0.0005; total time=   0.0s\n",
      "[CV 1/5] END .............................C=10, gamma=0.0001; total time=   0.0s\n",
      "[CV 2/5] END .............................C=10, gamma=0.0001; total time=   0.0s\n",
      "[CV 3/5] END .............................C=10, gamma=0.0001; total time=   0.0s\n",
      "[CV 4/5] END .............................C=10, gamma=0.0001; total time=   0.0s\n",
      "[CV 5/5] END .............................C=10, gamma=0.0001; total time=   0.0s\n",
      "[CV 1/5] END .............................C=10, gamma=0.0005; total time=   0.0s\n",
      "[CV 2/5] END .............................C=10, gamma=0.0005; total time=   0.0s\n",
      "[CV 3/5] END .............................C=10, gamma=0.0005; total time=   0.0s\n",
      "[CV 4/5] END .............................C=10, gamma=0.0005; total time=   0.0s\n",
      "[CV 5/5] END .............................C=10, gamma=0.0005; total time=   0.0s\n",
      "[CV 1/5] END .............................C=10, gamma=0.0001; total time=   0.0s\n",
      "[CV 2/5] END .............................C=10, gamma=0.0001; total time=   0.0s\n",
      "[CV 3/5] END .............................C=10, gamma=0.0001; total time=   0.0s\n",
      "[CV 4/5] END .............................C=10, gamma=0.0001; total time=   0.0s\n",
      "[CV 5/5] END .............................C=10, gamma=0.0001; total time=   0.0s\n",
      "[CV 1/5] END ..............................C=50, gamma=1e-05; total time=   0.0s\n",
      "[CV 2/5] END ..............................C=50, gamma=1e-05; total time=   0.0s\n",
      "[CV 3/5] END ..............................C=50, gamma=1e-05; total time=   0.0s\n",
      "[CV 4/5] END ..............................C=50, gamma=1e-05; total time=   0.0s\n",
      "[CV 5/5] END ..............................C=50, gamma=1e-05; total time=   0.0s\n",
      "[CV 1/5] END .............................C=50, gamma=0.0005; total time=   0.0s\n",
      "[CV 2/5] END .............................C=50, gamma=0.0005; total time=   0.0s\n",
      "[CV 3/5] END .............................C=50, gamma=0.0005; total time=   0.0s\n",
      "[CV 4/5] END .............................C=50, gamma=0.0005; total time=   0.0s\n",
      "[CV 5/5] END .............................C=50, gamma=0.0005; total time=   0.0s\n",
      "[CV 1/5] END .............................C=50, gamma=0.0001; total time=   0.0s\n",
      "[CV 2/5] END .............................C=50, gamma=0.0001; total time=   0.0s\n",
      "[CV 3/5] END .............................C=50, gamma=0.0001; total time=   0.0s\n",
      "[CV 4/5] END .............................C=50, gamma=0.0001; total time=   0.0s\n",
      "[CV 5/5] END .............................C=50, gamma=0.0001; total time=   0.0s\n",
      "[CV 1/5] END .............................C=50, gamma=0.0005; total time=   0.0s\n",
      "[CV 2/5] END .............................C=50, gamma=0.0005; total time=   0.0s\n",
      "[CV 3/5] END .............................C=50, gamma=0.0005; total time=   0.0s\n",
      "[CV 4/5] END .............................C=50, gamma=0.0005; total time=   0.0s\n",
      "[CV 5/5] END .............................C=50, gamma=0.0005; total time=   0.0s\n",
      "[CV 1/5] END .............................C=50, gamma=0.0001; total time=   0.0s\n",
      "[CV 2/5] END .............................C=50, gamma=0.0001; total time=   0.0s\n",
      "[CV 3/5] END .............................C=50, gamma=0.0001; total time=   0.0s\n",
      "[CV 4/5] END .............................C=50, gamma=0.0001; total time=   0.0s\n",
      "[CV 5/5] END .............................C=50, gamma=0.0001; total time=   0.0s\n",
      "[CV 1/5] END .............................C=100, gamma=1e-05; total time=   0.0s\n",
      "[CV 2/5] END .............................C=100, gamma=1e-05; total time=   0.0s\n",
      "[CV 3/5] END .............................C=100, gamma=1e-05; total time=   0.0s\n",
      "[CV 4/5] END .............................C=100, gamma=1e-05; total time=   0.0s\n",
      "[CV 5/5] END .............................C=100, gamma=1e-05; total time=   0.0s\n",
      "[CV 1/5] END ............................C=100, gamma=0.0005; total time=   0.0s\n",
      "[CV 2/5] END ............................C=100, gamma=0.0005; total time=   0.0s\n",
      "[CV 3/5] END ............................C=100, gamma=0.0005; total time=   0.0s\n",
      "[CV 4/5] END ............................C=100, gamma=0.0005; total time=   0.0s\n",
      "[CV 5/5] END ............................C=100, gamma=0.0005; total time=   0.0s\n",
      "[CV 1/5] END ............................C=100, gamma=0.0001; total time=   0.0s\n",
      "[CV 2/5] END ............................C=100, gamma=0.0001; total time=   0.0s\n",
      "[CV 3/5] END ............................C=100, gamma=0.0001; total time=   0.0s\n",
      "[CV 4/5] END ............................C=100, gamma=0.0001; total time=   0.0s\n",
      "[CV 5/5] END ............................C=100, gamma=0.0001; total time=   0.0s\n",
      "[CV 1/5] END ............................C=100, gamma=0.0005; total time=   0.0s\n",
      "[CV 2/5] END ............................C=100, gamma=0.0005; total time=   0.0s\n",
      "[CV 3/5] END ............................C=100, gamma=0.0005; total time=   0.0s\n",
      "[CV 4/5] END ............................C=100, gamma=0.0005; total time=   0.0s\n",
      "[CV 5/5] END ............................C=100, gamma=0.0005; total time=   0.0s\n",
      "[CV 1/5] END ............................C=100, gamma=0.0001; total time=   0.0s\n",
      "[CV 2/5] END ............................C=100, gamma=0.0001; total time=   0.0s\n",
      "[CV 3/5] END ............................C=100, gamma=0.0001; total time=   0.0s\n",
      "[CV 4/5] END ............................C=100, gamma=0.0001; total time=   0.0s\n",
      "[CV 5/5] END ............................C=100, gamma=0.0001; total time=   0.0s\n",
      "[CV 1/5] END ............................C=1000, gamma=1e-05; total time=   0.1s\n",
      "[CV 2/5] END ............................C=1000, gamma=1e-05; total time=   0.1s\n",
      "[CV 3/5] END ............................C=1000, gamma=1e-05; total time=   0.1s\n",
      "[CV 4/5] END ............................C=1000, gamma=1e-05; total time=   0.1s\n",
      "[CV 5/5] END ............................C=1000, gamma=1e-05; total time=   0.1s\n",
      "[CV 1/5] END ...........................C=1000, gamma=0.0005; total time=   0.1s\n",
      "[CV 2/5] END ...........................C=1000, gamma=0.0005; total time=   0.1s\n",
      "[CV 3/5] END ...........................C=1000, gamma=0.0005; total time=   0.1s\n",
      "[CV 4/5] END ...........................C=1000, gamma=0.0005; total time=   0.2s\n",
      "[CV 5/5] END ...........................C=1000, gamma=0.0005; total time=   0.2s\n",
      "[CV 1/5] END ...........................C=1000, gamma=0.0001; total time=   0.1s\n",
      "[CV 2/5] END ...........................C=1000, gamma=0.0001; total time=   0.1s\n",
      "[CV 3/5] END ...........................C=1000, gamma=0.0001; total time=   0.1s\n",
      "[CV 4/5] END ...........................C=1000, gamma=0.0001; total time=   0.2s\n",
      "[CV 5/5] END ...........................C=1000, gamma=0.0001; total time=   0.1s\n",
      "[CV 1/5] END ...........................C=1000, gamma=0.0005; total time=   0.1s\n",
      "[CV 2/5] END ...........................C=1000, gamma=0.0005; total time=   0.1s\n",
      "[CV 3/5] END ...........................C=1000, gamma=0.0005; total time=   0.1s\n",
      "[CV 4/5] END ...........................C=1000, gamma=0.0005; total time=   0.1s\n",
      "[CV 5/5] END ...........................C=1000, gamma=0.0005; total time=   0.1s\n",
      "[CV 1/5] END ...........................C=1000, gamma=0.0001; total time=   0.1s\n",
      "[CV 2/5] END ...........................C=1000, gamma=0.0001; total time=   0.1s\n",
      "[CV 3/5] END ...........................C=1000, gamma=0.0001; total time=   0.1s\n",
      "[CV 4/5] END ...........................C=1000, gamma=0.0001; total time=   0.2s\n",
      "[CV 5/5] END ...........................C=1000, gamma=0.0001; total time=   0.1s\n"
     ]
    },
    {
     "data": {
      "text/plain": [
       "GridSearchCV(estimator=SVC(kernel='linear'),\n",
       "             param_grid={'C': [0.001, 0.005, 0.01, 0.05, 0.1, 0.5, 1, 5, 10, 50,\n",
       "                               100, 1000],\n",
       "                         'gamma': [1e-05, 0.0005, 0.0001, 0.0005, 0.0001]},\n",
       "             verbose=3)"
      ]
     },
     "execution_count": 63,
     "metadata": {},
     "output_type": "execute_result"
    }
   ],
   "source": [
    "grid.fit(X_train_scaled, y_train)"
   ]
  },
  {
   "cell_type": "code",
   "execution_count": 64,
   "metadata": {},
   "outputs": [
    {
     "name": "stdout",
     "output_type": "stream",
     "text": [
      "{'C': 0.5, 'gamma': 1e-05}\n",
      "0.5295177230965423\n"
     ]
    }
   ],
   "source": [
    "print(grid.best_params_)\n",
    "print(grid.best_score_)"
   ]
  },
  {
   "cell_type": "code",
   "execution_count": 66,
   "metadata": {},
   "outputs": [
    {
     "data": {
      "text/plain": [
       "0.5107758620689655"
      ]
     },
     "execution_count": 66,
     "metadata": {},
     "output_type": "execute_result"
    }
   ],
   "source": [
    "grid.score(X_test_scaled, y_test)"
   ]
  },
  {
   "cell_type": "code",
   "execution_count": null,
   "metadata": {},
   "outputs": [],
   "source": [
    "grid.save(\"svc.h5\")"
   ]
  }
 ],
 "metadata": {
  "kernelspec": {
   "display_name": "Python [conda env:PythonData] *",
   "language": "python",
   "name": "conda-env-PythonData-py"
  },
  "language_info": {
   "codemirror_mode": {
    "name": "ipython",
    "version": 3
   },
   "file_extension": ".py",
   "mimetype": "text/x-python",
   "name": "python",
   "nbconvert_exporter": "python",
   "pygments_lexer": "ipython3",
   "version": "3.8.5"
  }
 },
 "nbformat": 4,
 "nbformat_minor": 4
}
