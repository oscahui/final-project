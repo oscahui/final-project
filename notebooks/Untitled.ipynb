{
 "cells": [
  {
   "cell_type": "code",
   "execution_count": 1,
   "id": "f8962ce9",
   "metadata": {},
   "outputs": [],
   "source": [
    "import pandas as pd"
   ]
  },
  {
   "cell_type": "code",
   "execution_count": 2,
   "id": "bba7f138",
   "metadata": {},
   "outputs": [],
   "source": [
    "df = pd.read_csv(\"../data/bitstampUSD_1-min_data_2012-01-01_to_2021-03-31.csv\")\n",
    "df1 = pd.read_csv(\"../data/HistoricalData.csv\", parse_dates=[\"Date\"])\n",
    "# process dataframe from kaggle\n",
    "df = df.dropna()\n",
    "# timestamp to datetime\n",
    "df[\"DateTime\"] = pd.to_datetime(df['Timestamp'],unit='s')\n",
    "df[\"Date\"] = df[\"DateTime\"].dt.date\n",
    "df[\"Time\"] = df[\"DateTime\"].dt.time\n",
    "# keep only useful columns and add a column indicate weather the close value is acctual or\n",
    "df = df[[\"Date\",\"Time\", \"Close\"]]\n",
    "df[\"Real\"] = True\n",
    "# get the date closing price then sort and reset index\n",
    "df = df.groupby(\"Date\").max(\"Time\")\n",
    "df = df.reset_index()\n",
    "df = df.sort_values(by=\"Date\")\n",
    "df = df.reset_index(drop=True)\n",
    "# process dataframe from nasdaq\n",
    "df1 = df1.sort_values(by=\"Date\")\n",
    "df1 = df1.reset_index(drop=True)\n",
    "df1 = df1[[\"Date\", \"Close/Last\"]]\n",
    "df1.columns = [\"Date\", \"Close\"]\n",
    "df1[\"Date\"] = df1[\"Date\"].dt.date\n",
    "df1[\"Real\"] = True\n",
    "# concat two dataset \n",
    "df_max_date = max(df[\"Date\"])\n",
    "df = pd.concat([df, df1.loc[df1[\"Date\"]>df_max_date]])\n",
    "# reset index again\n",
    "df = df.reset_index(drop=True)\n",
    "df.to_csv(\"bitcoin.csv\", index=False)"
   ]
  },
  {
   "cell_type": "code",
   "execution_count": 3,
   "id": "66ea35eb",
   "metadata": {},
   "outputs": [
    {
     "data": {
      "text/html": [
       "<div>\n",
       "<style scoped>\n",
       "    .dataframe tbody tr th:only-of-type {\n",
       "        vertical-align: middle;\n",
       "    }\n",
       "\n",
       "    .dataframe tbody tr th {\n",
       "        vertical-align: top;\n",
       "    }\n",
       "\n",
       "    .dataframe thead th {\n",
       "        text-align: right;\n",
       "    }\n",
       "</style>\n",
       "<table border=\"1\" class=\"dataframe\">\n",
       "  <thead>\n",
       "    <tr style=\"text-align: right;\">\n",
       "      <th></th>\n",
       "      <th>Date</th>\n",
       "      <th>Close</th>\n",
       "      <th>Real</th>\n",
       "    </tr>\n",
       "  </thead>\n",
       "  <tbody>\n",
       "    <tr>\n",
       "      <th>0</th>\n",
       "      <td>2011-12-31</td>\n",
       "      <td>4.58</td>\n",
       "      <td>True</td>\n",
       "    </tr>\n",
       "    <tr>\n",
       "      <th>1</th>\n",
       "      <td>2012-01-01</td>\n",
       "      <td>5.00</td>\n",
       "      <td>True</td>\n",
       "    </tr>\n",
       "    <tr>\n",
       "      <th>2</th>\n",
       "      <td>2012-01-02</td>\n",
       "      <td>5.00</td>\n",
       "      <td>True</td>\n",
       "    </tr>\n",
       "    <tr>\n",
       "      <th>3</th>\n",
       "      <td>2012-01-03</td>\n",
       "      <td>5.32</td>\n",
       "      <td>True</td>\n",
       "    </tr>\n",
       "    <tr>\n",
       "      <th>4</th>\n",
       "      <td>2012-01-04</td>\n",
       "      <td>5.57</td>\n",
       "      <td>True</td>\n",
       "    </tr>\n",
       "  </tbody>\n",
       "</table>\n",
       "</div>"
      ],
      "text/plain": [
       "         Date  Close  Real\n",
       "0  2011-12-31   4.58  True\n",
       "1  2012-01-01   5.00  True\n",
       "2  2012-01-02   5.00  True\n",
       "3  2012-01-03   5.32  True\n",
       "4  2012-01-04   5.57  True"
      ]
     },
     "execution_count": 3,
     "metadata": {},
     "output_type": "execute_result"
    }
   ],
   "source": [
    "df = pd.read_csv(\"../data/bitcoin.csv\")\n",
    "df.head()"
   ]
  },
  {
   "cell_type": "code",
   "execution_count": null,
   "id": "bae63a60",
   "metadata": {},
   "outputs": [],
   "source": []
  }
 ],
 "metadata": {
  "kernelspec": {
   "display_name": "Python [conda env:py385]",
   "language": "python",
   "name": "conda-env-py385-py"
  },
  "language_info": {
   "codemirror_mode": {
    "name": "ipython",
    "version": 3
   },
   "file_extension": ".py",
   "mimetype": "text/x-python",
   "name": "python",
   "nbconvert_exporter": "python",
   "pygments_lexer": "ipython3",
   "version": "3.8.5"
  }
 },
 "nbformat": 4,
 "nbformat_minor": 5
}
