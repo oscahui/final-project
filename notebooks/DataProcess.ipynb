{
 "cells": [
  {
   "cell_type": "code",
   "execution_count": 1,
   "metadata": {},
   "outputs": [],
   "source": [
    "import pandas as pd\n",
    "from datetime import datetime"
   ]
  },
  {
   "cell_type": "code",
   "execution_count": 2,
   "metadata": {},
   "outputs": [
    {
     "data": {
      "text/html": [
       "<div>\n",
       "<style scoped>\n",
       "    .dataframe tbody tr th:only-of-type {\n",
       "        vertical-align: middle;\n",
       "    }\n",
       "\n",
       "    .dataframe tbody tr th {\n",
       "        vertical-align: top;\n",
       "    }\n",
       "\n",
       "    .dataframe thead th {\n",
       "        text-align: right;\n",
       "    }\n",
       "</style>\n",
       "<table border=\"1\" class=\"dataframe\">\n",
       "  <thead>\n",
       "    <tr style=\"text-align: right;\">\n",
       "      <th></th>\n",
       "      <th>date</th>\n",
       "      <th>close</th>\n",
       "      <th>real</th>\n",
       "    </tr>\n",
       "  </thead>\n",
       "  <tbody>\n",
       "    <tr>\n",
       "      <th>3421</th>\n",
       "      <td>2021-05-16</td>\n",
       "      <td>43493.4</td>\n",
       "      <td>True</td>\n",
       "    </tr>\n",
       "    <tr>\n",
       "      <th>3422</th>\n",
       "      <td>2021-05-17</td>\n",
       "      <td>44847.2</td>\n",
       "      <td>True</td>\n",
       "    </tr>\n",
       "    <tr>\n",
       "      <th>3423</th>\n",
       "      <td>2021-05-18</td>\n",
       "      <td>40569.0</td>\n",
       "      <td>True</td>\n",
       "    </tr>\n",
       "    <tr>\n",
       "      <th>3424</th>\n",
       "      <td>2021-05-19</td>\n",
       "      <td>38220.1</td>\n",
       "      <td>True</td>\n",
       "    </tr>\n",
       "    <tr>\n",
       "      <th>3425</th>\n",
       "      <td>2021-05-20</td>\n",
       "      <td>40054.0</td>\n",
       "      <td>True</td>\n",
       "    </tr>\n",
       "  </tbody>\n",
       "</table>\n",
       "</div>"
      ],
      "text/plain": [
       "            date    close  real\n",
       "3421  2021-05-16  43493.4  True\n",
       "3422  2021-05-17  44847.2  True\n",
       "3423  2021-05-18  40569.0  True\n",
       "3424  2021-05-19  38220.1  True\n",
       "3425  2021-05-20  40054.0  True"
      ]
     },
     "execution_count": 2,
     "metadata": {},
     "output_type": "execute_result"
    }
   ],
   "source": [
    "df = pd.read_csv(\"../data/bitstampUSD_1-min_data_2012-01-01_to_2021-03-31.csv\")\n",
    "df1 = pd.read_csv(\"../data/HistoricalData_BTC.csv\", parse_dates=[\"Date\"])\n",
    "\n",
    "# process dataframe from kaggle\n",
    "df = df.dropna()\n",
    "\n",
    "# timestamp to datetime\n",
    "df[\"DateTime\"] = pd.to_datetime(df['Timestamp'],unit='s')\n",
    "df[\"Date\"] = df[\"DateTime\"].dt.date\n",
    "df[\"Time\"] = df[\"DateTime\"].dt.time\n",
    "\n",
    "# keep only useful columns and add a column indicate weather the close value is acctual or predict\n",
    "df = df[[\"Date\",\"Time\", \"Close\"]]\n",
    "df[\"Real\"] = True\n",
    "\n",
    "# get the date closing price then sort and reset index\n",
    "df = df.groupby(\"Date\").max(\"Time\")\n",
    "df = df.reset_index()\n",
    "df = df.sort_values(by=\"Date\")\n",
    "df = df.reset_index(drop=True)\n",
    "\n",
    "# process dataframe from nasdaq\n",
    "df1 = df1.sort_values(by=\"Date\")\n",
    "df1 = df1.reset_index(drop=True)\n",
    "df1 = df1[[\"Date\", \"Close/Last\"]]\n",
    "df1.columns = [\"Date\", \"Close\"]\n",
    "df1[\"Date\"] = df1[\"Date\"].dt.date\n",
    "df1[\"Real\"] = True\n",
    "\n",
    "# concat two dataset \n",
    "df_max_date = max(df[\"Date\"])\n",
    "df = pd.concat([df, df1.loc[df1[\"Date\"]>df_max_date]])\n",
    "\n",
    "# reset index again\n",
    "df = df.reset_index(drop=True)\n",
    "df.columns = [\"date\", \"close\", \"real\"]\n",
    "\n",
    "df.tail()"
   ]
  },
  {
   "cell_type": "code",
   "execution_count": 3,
   "metadata": {},
   "outputs": [],
   "source": [
    "# moving avarage calculation function\n",
    "def ma(df_source, date, n_days):\n",
    "    index = df_source.index[df_source[\"date\"] == date][0]\n",
    "    df = None\n",
    "    if index == 0:\n",
    "        df = df_source.iloc[0]\n",
    "    elif index - n_days >= 0:\n",
    "        df = df_source.iloc[index - n_days + 1 : index+1]\n",
    "    else:\n",
    "        df = df_source.iloc[0 : index + 1]\n",
    "    return df[\"close\"].mean()\n",
    "\n",
    "# compare price\n",
    "def closediff(df_source, col, date):\n",
    "    index = df_source.index[df_source[\"date\"] == date][0]\n",
    "    diff = 0\n",
    "    if index == 0:\n",
    "        diff = 0\n",
    "    else:\n",
    "        diff = df_source.iloc[index][col] - df_source.iloc[index - 1][col]\n",
    "    return diff\n",
    "\n",
    "def diffpct(df_source, col, date):\n",
    "    index = df_source.index[df_source[\"date\"] == date][0]\n",
    "    diff = 0\n",
    "    if index == 0:\n",
    "        diff = 0\n",
    "    else:\n",
    "        diff = (df_source.iloc[index][col] - df_source.iloc[index - 1][col])/df_source.iloc[index - 1][col]\n",
    "    return diff"
   ]
  },
  {
   "cell_type": "code",
   "execution_count": 4,
   "metadata": {},
   "outputs": [],
   "source": [
    "# get moving averages\n",
    "ma_days = [5, 10, 20, 30, 60, 90, 180, 240, 360]\n",
    "df_ma = df.copy()\n",
    "for ma_day in ma_days:\n",
    "    column_name = f\"ma_{ma_day}\"\n",
    "    df_ma[column_name] = df_ma.apply(lambda x: ma(df_ma, x[\"date\"], ma_day), axis=1)"
   ]
  },
  {
   "cell_type": "code",
   "execution_count": 5,
   "metadata": {},
   "outputs": [],
   "source": [
    "df[\"close\"].count()\n",
    "df_ma.to_csv(\"../data/bitcoin.csv\", index=False)"
   ]
  },
  {
   "cell_type": "code",
   "execution_count": 6,
   "metadata": {},
   "outputs": [
    {
     "data": {
      "text/plain": [
       "3426"
      ]
     },
     "execution_count": 6,
     "metadata": {},
     "output_type": "execute_result"
    }
   ],
   "source": [
    "# other price\n",
    "# gold\n",
    "df_gold = pd.read_csv(\"../data/HistoricalData_Gold.csv\", parse_dates=[\"Date\"])\n",
    "df_gold[\"Date\"] = df_gold[\"Date\"].dt.date\n",
    "df_gold = df_gold[[\"Date\", \"Close/Last\"]]\n",
    "df_gold.columns = [\"Date\", \"Gold\"]\n",
    "df_gold[\"Gold\"] = df_gold[\"Gold\"].str[1:]\n",
    "df_gold[\"Gold\"] = df_gold[\"Gold\"].astype(\"float\")\n",
    "df_gold.columns = [\"date\", \"gold\"]\n",
    "df_combine = df.merge(df_gold, on=\"date\", how=\"left\")\n",
    "df_combine[\"close\"].count()"
   ]
  },
  {
   "cell_type": "code",
   "execution_count": 7,
   "metadata": {},
   "outputs": [
    {
     "data": {
      "text/plain": [
       "3426"
      ]
     },
     "execution_count": 7,
     "metadata": {},
     "output_type": "execute_result"
    }
   ],
   "source": [
    "# comp\n",
    "df_comp = pd.read_csv(\"../data/HistoricalData_Comp.csv\", parse_dates=[\"Date\"])\n",
    "df_comp[\"Date\"] = df_comp[\"Date\"].dt.date\n",
    "df_comp = df_comp[[\"Date\", \"Close/Last\"]]\n",
    "df_comp.columns = [\"date\", \"comp\"]\n",
    "df_combine = df_combine.merge(df_comp, on=\"date\", how=\"left\")\n",
    "df_combine[\"close\"].count()"
   ]
  },
  {
   "cell_type": "code",
   "execution_count": 8,
   "metadata": {},
   "outputs": [
    {
     "data": {
      "text/plain": [
       "3426"
      ]
     },
     "execution_count": 8,
     "metadata": {},
     "output_type": "execute_result"
    }
   ],
   "source": [
    "# SP500\n",
    "df_spx = pd.read_csv(\"../data/HistoricalData_SPX.csv\", parse_dates=[\"Date\"])\n",
    "df_spx[\"Date\"] = df_spx[\"Date\"].dt.date\n",
    "df_spx = df_spx[[\"Date\", \"Close/Last\"]]\n",
    "df_spx.columns = [\"date\", \"spx\"]\n",
    "df_combine = df_combine.merge(df_spx, on=\"date\", how=\"left\")\n",
    "df_combine[\"close\"].count()"
   ]
  },
  {
   "cell_type": "code",
   "execution_count": 9,
   "metadata": {},
   "outputs": [
    {
     "data": {
      "text/plain": [
       "3426"
      ]
     },
     "execution_count": 9,
     "metadata": {},
     "output_type": "execute_result"
    }
   ],
   "source": [
    "# Dow Industrials\n",
    "df_indu = pd.read_csv(\"../data/HistoricalData_INDU.csv\", parse_dates=[\"Date\"])\n",
    "df_indu[\"Date\"] = df_indu[\"Date\"].dt.date\n",
    "df_indu = df_indu[[\"Date\", \"Close/Last\"]]\n",
    "df_indu.columns=[\"date\", \"indu\"]\n",
    "df_combine = df_combine.merge(df_indu, on=\"date\", how=\"left\")\n",
    "df_combine[\"close\"].count()"
   ]
  },
  {
   "cell_type": "code",
   "execution_count": 10,
   "metadata": {},
   "outputs": [
    {
     "data": {
      "text/plain": [
       "3426"
      ]
     },
     "execution_count": 10,
     "metadata": {},
     "output_type": "execute_result"
    }
   ],
   "source": [
    "# Oil\n",
    "df_oil = pd.read_csv(\"../data/HistoricalData_Oil.csv\", parse_dates=[\"Date\"])\n",
    "df_oil[\"Date\"] = df_oil[\"Date\"].dt.date\n",
    "df_oil = df_oil[[\"Date\", \"Close/Last\"]]\n",
    "df_oil.columns = [\"date\", \"oil\"]\n",
    "df_combine = df_combine.merge(df_oil, on=\"date\", how=\"left\")\n",
    "df_combine[\"close\"].count()"
   ]
  },
  {
   "cell_type": "code",
   "execution_count": 11,
   "metadata": {},
   "outputs": [],
   "source": [
    "df_combine = df_combine.dropna()"
   ]
  },
  {
   "cell_type": "code",
   "execution_count": 12,
   "metadata": {},
   "outputs": [],
   "source": [
    "df_combine = df_combine.reset_index(drop=True)"
   ]
  },
  {
   "cell_type": "code",
   "execution_count": 13,
   "metadata": {},
   "outputs": [
    {
     "data": {
      "text/plain": [
       "2357"
      ]
     },
     "execution_count": 13,
     "metadata": {},
     "output_type": "execute_result"
    }
   ],
   "source": [
    "df_combine[\"close\"].count()"
   ]
  },
  {
   "cell_type": "code",
   "execution_count": 14,
   "metadata": {},
   "outputs": [],
   "source": [
    "df_combine_diff = df_combine.copy()\n",
    "df_combine_diff[\"btc_diff\"] = df_combine_diff.apply(lambda x: closediff(df_combine_diff, \"close\", x[\"date\"]), axis=1)\n",
    "df_combine_diff[\"gold_diff\"] = df_combine_diff.apply(lambda x: closediff(df_combine_diff, \"gold\", x[\"date\"]), axis=1)\n",
    "df_combine_diff[\"comp_diff\"] = df_combine_diff.apply(lambda x: closediff(df_combine_diff, \"comp\", x[\"date\"]), axis=1)\n",
    "df_combine_diff[\"spx_diff\"] = df_combine_diff.apply(lambda x: closediff(df_combine_diff, \"spx\", x[\"date\"]), axis=1)\n",
    "df_combine_diff[\"indu_diff\"] = df_combine_diff.apply(lambda x: closediff(df_combine_diff, \"indu\", x[\"date\"]), axis=1)\n",
    "df_combine_diff[\"oil_diff\"] = df_combine_diff.apply(lambda x: closediff(df_combine_diff, \"oil\", x[\"date\"]), axis=1)\n",
    "\n",
    "df_combine_diff[\"btc_diffpct\"] = df_combine_diff.apply(lambda x: diffpct(df_combine_diff, \"close\", x[\"date\"]), axis=1)\n",
    "df_combine_diff[\"gold_diffpct\"] = df_combine_diff.apply(lambda x: diffpct(df_combine_diff, \"gold\", x[\"date\"]), axis=1)\n",
    "df_combine_diff[\"comp_diffpct\"] = df_combine_diff.apply(lambda x: diffpct(df_combine_diff, \"comp\", x[\"date\"]), axis=1)\n",
    "df_combine_diff[\"spx_diffpct\"] = df_combine_diff.apply(lambda x: diffpct(df_combine_diff, \"spx\", x[\"date\"]), axis=1)\n",
    "df_combine_diff[\"indu_diffpct\"] = df_combine_diff.apply(lambda x: diffpct(df_combine_diff, \"indu\", x[\"date\"]), axis=1)\n",
    "df_combine_diff[\"oil_diffpct\"] = df_combine_diff.apply(lambda x: diffpct(df_combine_diff, \"oil\", x[\"date\"]), axis=1)"
   ]
  },
  {
   "cell_type": "code",
   "execution_count": 15,
   "metadata": {},
   "outputs": [
    {
     "data": {
      "text/plain": [
       "2357"
      ]
     },
     "execution_count": 15,
     "metadata": {},
     "output_type": "execute_result"
    }
   ],
   "source": [
    "df_combine_diff[\"close\"].count()"
   ]
  },
  {
   "cell_type": "code",
   "execution_count": 16,
   "metadata": {},
   "outputs": [],
   "source": [
    "df_combine_diff.to_csv(\"../data/combine.csv\", index=False)"
   ]
  },
  {
   "cell_type": "code",
   "execution_count": 17,
   "metadata": {},
   "outputs": [
    {
     "data": {
      "text/plain": [
       "Index(['date', 'close', 'real', 'ma_5', 'ma_10', 'ma_20', 'ma_30', 'ma_60',\n",
       "       'ma_90', 'ma_180', 'ma_240', 'ma_360'],\n",
       "      dtype='object')"
      ]
     },
     "execution_count": 17,
     "metadata": {},
     "output_type": "execute_result"
    }
   ],
   "source": [
    "df_ma.columns"
   ]
  },
  {
   "cell_type": "code",
   "execution_count": 18,
   "metadata": {},
   "outputs": [
    {
     "data": {
      "text/plain": [
       "Index(['date', 'close', 'real', 'gold', 'comp', 'spx', 'indu', 'oil',\n",
       "       'btc_diff', 'gold_diff', 'comp_diff', 'spx_diff', 'indu_diff',\n",
       "       'oil_diff', 'btc_diffpct', 'gold_diffpct', 'comp_diffpct',\n",
       "       'spx_diffpct', 'indu_diffpct', 'oil_diffpct'],\n",
       "      dtype='object')"
      ]
     },
     "execution_count": 18,
     "metadata": {},
     "output_type": "execute_result"
    }
   ],
   "source": [
    "df_combine_diff.columns"
   ]
  },
  {
   "cell_type": "code",
   "execution_count": 19,
   "metadata": {},
   "outputs": [
    {
     "name": "stdout",
     "output_type": "stream",
     "text": [
      "Records: 3426, Columns: 12\n"
     ]
    },
    {
     "data": {
      "text/plain": [
       "Index(['date', 'close', 'real', 'ma_5', 'ma_10', 'ma_20', 'ma_30', 'ma_60',\n",
       "       'ma_90', 'ma_180', 'ma_240', 'ma_360'],\n",
       "      dtype='object')"
      ]
     },
     "execution_count": 19,
     "metadata": {},
     "output_type": "execute_result"
    }
   ],
   "source": [
    "df1 = pd.read_csv(\"../data/bitcoin.csv\")\n",
    "print(f\"Records: {df1['close'].count()}, Columns: {len(df1.columns)}\")\n",
    "df1.columns"
   ]
  },
  {
   "cell_type": "code",
   "execution_count": 20,
   "metadata": {},
   "outputs": [
    {
     "name": "stdout",
     "output_type": "stream",
     "text": [
      "Records: 2357, Columns: 20\n"
     ]
    },
    {
     "data": {
      "text/plain": [
       "Index(['date', 'close', 'real', 'gold', 'comp', 'spx', 'indu', 'oil',\n",
       "       'btc_diff', 'gold_diff', 'comp_diff', 'spx_diff', 'indu_diff',\n",
       "       'oil_diff', 'btc_diffpct', 'gold_diffpct', 'comp_diffpct',\n",
       "       'spx_diffpct', 'indu_diffpct', 'oil_diffpct'],\n",
       "      dtype='object')"
      ]
     },
     "execution_count": 20,
     "metadata": {},
     "output_type": "execute_result"
    }
   ],
   "source": [
    "df2 = pd.read_csv(\"../data/combine.csv\")\n",
    "print(f\"Records: {df2['close'].count()}, Columns: {len(df2.columns)}\")\n",
    "df2.columns"
   ]
  },
  {
   "cell_type": "code",
   "execution_count": null,
   "metadata": {},
   "outputs": [],
   "source": []
  }
 ],
 "metadata": {
  "kernelspec": {
   "display_name": "Python 3",
   "language": "python",
   "name": "python3"
  },
  "language_info": {
   "codemirror_mode": {
    "name": "ipython",
    "version": 3
   },
   "file_extension": ".py",
   "mimetype": "text/x-python",
   "name": "python",
   "nbconvert_exporter": "python",
   "pygments_lexer": "ipython3",
   "version": "3.8.5"
  }
 },
 "nbformat": 4,
 "nbformat_minor": 5
}
